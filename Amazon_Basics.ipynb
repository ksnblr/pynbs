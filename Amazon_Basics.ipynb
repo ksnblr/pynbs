{
 "cells": [
  {
   "cell_type": "markdown",
   "id": "3376b421",
   "metadata": {},
   "source": [
    "### 1. Grid Problem (islands)"
   ]
  },
  {
   "cell_type": "code",
   "execution_count": 6,
   "id": "b3288d65",
   "metadata": {},
   "outputs": [
    {
     "name": "stdout",
     "output_type": "stream",
     "text": [
      "2\n"
     ]
    }
   ],
   "source": [
    "#Grid Problem (Find islands)\n",
    "grid = [[0,1,0,0],\n",
    "        [1,1,1,0],\n",
    "        [0,1,0,1],\n",
    "        [0,1,0,1]]\n",
    "\n",
    "island_count = 0\n",
    "rows = len(grid)\n",
    "cols = len(grid[0])\n",
    "\n",
    "def dfs (item):\n",
    "    x = item[0]\n",
    "    y = item[1]\n",
    "    if 0<=x<rows and 0<=y<cols and grid[x][y] == 1:\n",
    "        grid[x][y] = '#'\n",
    "        dfs((x-1,y))\n",
    "        dfs((x+1,y))\n",
    "        dfs((x,y-1))\n",
    "        dfs((x,y+1))\n",
    "\n",
    "for i in range(rows):\n",
    "    for j in range(cols):\n",
    "        if grid[i][j] == 1:\n",
    "            island_count+=1\n",
    "            dfs((i,j))\n",
    "print(island_count)\n"
   ]
  },
  {
   "cell_type": "markdown",
   "id": "95caf876",
   "metadata": {},
   "source": [
    "### 2. Two SUM"
   ]
  },
  {
   "cell_type": "code",
   "execution_count": 9,
   "id": "33d3b102",
   "metadata": {},
   "outputs": [
    {
     "name": "stdout",
     "output_type": "stream",
     "text": [
      "1 2\n"
     ]
    }
   ],
   "source": [
    "#Two Sum\n",
    "nums = [3,2,4]\n",
    "target = 6\n",
    "\n",
    "d = {}\n",
    "for i in range(len(nums)):\n",
    "    if target-nums[i] not in d:\n",
    "        d[nums[i]] = i\n",
    "    else:\n",
    "        print(d[target-nums[i]],i)"
   ]
  },
  {
   "cell_type": "markdown",
   "id": "9031e1dc",
   "metadata": {},
   "source": [
    "### 3. Compress Strings "
   ]
  },
  {
   "cell_type": "code",
   "execution_count": 49,
   "id": "ef993c66",
   "metadata": {},
   "outputs": [
    {
     "data": {
      "text/plain": [
       "'a3b3c3d3e3j4k4o4'"
      ]
     },
     "execution_count": 49,
     "metadata": {},
     "output_type": "execute_result"
    }
   ],
   "source": [
    "#Compress Strings\n",
    "\n",
    "from itertools import groupby\n",
    "\n",
    "s = 'aaabbbcccdddeeejjjjkkkkoooo'\n",
    "def compress_string_a(s):\n",
    "    temp = s[0]\n",
    "    count = 1\n",
    "    final_string = ''\n",
    "    for i in range(1,len(s)):\n",
    "        if s[i] == temp:\n",
    "            count+=1\n",
    "        else:\n",
    "            final_string+=\"{}{}\".format(temp,count)\n",
    "            temp = s[i]\n",
    "            count = 1\n",
    "    final_string+=\"{}{}\".format(temp,count)\n",
    "    return final_string\n",
    "\n",
    "\"\".join([\"\".join([k,str(len(list(v)))]) for k,v in groupby(s)])\n",
    "\n",
    "#compress_string_a(s)    "
   ]
  },
  {
   "cell_type": "markdown",
   "id": "b0d13c2d",
   "metadata": {},
   "source": [
    "### 4. Reverse String"
   ]
  },
  {
   "cell_type": "code",
   "execution_count": 51,
   "id": "c17e3f91",
   "metadata": {},
   "outputs": [
    {
     "data": {
      "text/plain": [
       "'dlroW olleH'"
      ]
     },
     "execution_count": 51,
     "metadata": {},
     "output_type": "execute_result"
    }
   ],
   "source": [
    "def reverse(s):\n",
    "    if len(s) == 1:\n",
    "        return s\n",
    "    return reverse(s[1:])+s[0]\n",
    "reverse(\"Hello World\")"
   ]
  },
  {
   "cell_type": "markdown",
   "id": "8c807a22",
   "metadata": {},
   "source": [
    "### 5. Fibonacci Series"
   ]
  },
  {
   "cell_type": "code",
   "execution_count": 59,
   "id": "fb4894fd",
   "metadata": {},
   "outputs": [
    {
     "data": {
      "text/plain": [
       "8"
      ]
     },
     "execution_count": 59,
     "metadata": {},
     "output_type": "execute_result"
    }
   ],
   "source": [
    "def fib(n):\n",
    "    if n==0 or n==1:\n",
    "        return n\n",
    "    return fib(n-1)+fib(n-2)\n",
    "\n",
    "def fiba(n):\n",
    "    a,b = 0,1\n",
    "    for i in range(n):\n",
    "        a,b = b,a+b\n",
    "    return a\n",
    "fiba(6)"
   ]
  },
  {
   "cell_type": "markdown",
   "id": "4df3429e",
   "metadata": {},
   "source": [
    "### 6. Find common Prefix"
   ]
  },
  {
   "cell_type": "code",
   "execution_count": 81,
   "id": "4f2063c0",
   "metadata": {},
   "outputs": [
    {
     "data": {
      "text/plain": [
       "'fl'"
      ]
     },
     "execution_count": 81,
     "metadata": {},
     "output_type": "execute_result"
    }
   ],
   "source": [
    "strs = [\"flow\",\"flarandle\",\"flowrence\"]\n",
    "\"\".join([list(set(item))[0] for item in zip(*strs) if len(set(item))==1])"
   ]
  },
  {
   "cell_type": "markdown",
   "id": "2510b63a",
   "metadata": {},
   "source": [
    "### 7. Valid Paranthesis"
   ]
  },
  {
   "cell_type": "code",
   "execution_count": 97,
   "id": "712a4308",
   "metadata": {},
   "outputs": [
    {
     "name": "stdout",
     "output_type": "stream",
     "text": [
      "Not Symmetric\n"
     ]
    }
   ],
   "source": [
    "s = \"([)\"\n",
    "\n",
    "d = {\"(\": \")\",\"[\":\"]\",\"{\":\"}\"}\n",
    "stack = []\n",
    "flag = False\n",
    "\n",
    "for i in range(len(s)):\n",
    "    if s[i] in ['(','[','{']:\n",
    "        stack.append(s[i])\n",
    "    else:\n",
    "        item = stack.pop()\n",
    "        if d[item] != s[i]:\n",
    "            flag = True\n",
    "            break\n",
    "\n",
    "if not flag and len(stack)==0:\n",
    "    print(\"Symmetric\")\n",
    "else:\n",
    "    print(\"Not Symmetric\")\n",
    "            \n",
    "\n"
   ]
  },
  {
   "cell_type": "markdown",
   "id": "887f7f79",
   "metadata": {},
   "source": [
    "### 8. Max Stock Price"
   ]
  },
  {
   "cell_type": "code",
   "execution_count": 105,
   "id": "7cdba109",
   "metadata": {},
   "outputs": [
    {
     "name": "stdout",
     "output_type": "stream",
     "text": [
      "0\n"
     ]
    }
   ],
   "source": [
    "#prices = [7,1,5,3,6,4]\n",
    "prices = [7.6,5,4,3,2,1]\n",
    "min_price = float('inf')\n",
    "max_profit = 0\n",
    "for i in range(len(prices)):\n",
    "    min_price = min(min_price,prices[i])\n",
    "    max_profit = max(max_profit,prices[i]-min_price)\n",
    "print(max_profit)\n"
   ]
  },
  {
   "cell_type": "markdown",
   "id": "020ada44",
   "metadata": {},
   "source": [
    "### 9. Max Sub Array"
   ]
  },
  {
   "cell_type": "code",
   "execution_count": 160,
   "id": "6355ab5e",
   "metadata": {},
   "outputs": [
    {
     "name": "stdout",
     "output_type": "stream",
     "text": [
      "29\n"
     ]
    }
   ],
   "source": [
    "nums = [1,2,-1,3,4,10,10,-10,-1]\n",
    "cur_sum = 0\n",
    "max_sum = 0\n",
    "\n",
    "for i in range(len(nums)):\n",
    "    cur_sum = max(cur_sum+nums[i],nums[i])\n",
    "    max_sum = max(max_sum,cur_sum)\n",
    "print(max_sum)\n",
    "    "
   ]
  },
  {
   "cell_type": "markdown",
   "id": "d3d3a7fd",
   "metadata": {},
   "source": [
    "### 10. Max Product Array"
   ]
  },
  {
   "cell_type": "code",
   "execution_count": 108,
   "id": "09807468",
   "metadata": {},
   "outputs": [
    {
     "name": "stdout",
     "output_type": "stream",
     "text": [
      "108\n"
     ]
    }
   ],
   "source": [
    "nums = [-1,-2,-9,-6]\n",
    "\n",
    "max_prod = 1\n",
    "cur_max = 1\n",
    "cur_min = 1\n",
    "\n",
    "for i in range(len(nums)):\n",
    "    val = (nums[i],cur_max*nums[i],cur_min*nums[i])\n",
    "    cur_max = max(val)\n",
    "    cur_min = min(val)\n",
    "    max_prod = max(max_prod,cur_max)\n",
    "print(max_prod)"
   ]
  },
  {
   "cell_type": "markdown",
   "id": "bfc0e3ac",
   "metadata": {},
   "source": [
    "### 11. Count Binary Sub Strings"
   ]
  },
  {
   "cell_type": "code",
   "execution_count": 127,
   "id": "6b428251",
   "metadata": {},
   "outputs": [
    {
     "data": {
      "text/plain": [
       "6"
      ]
     },
     "execution_count": 127,
     "metadata": {},
     "output_type": "execute_result"
    }
   ],
   "source": [
    "from itertools import groupby\n",
    "s = \"00110011\"\n",
    "\n",
    "def count_binary_strings(s):\n",
    "    z = [len(list(v)) for k,v in groupby(s)]\n",
    "    return sum([min(item) for item in zip(z[1:],z)])\n",
    "\n",
    "count_binary_strings(s)\n",
    "\n",
    "\n"
   ]
  },
  {
   "cell_type": "markdown",
   "id": "4f55eba1",
   "metadata": {},
   "source": [
    "### 12. Anagram Check"
   ]
  },
  {
   "cell_type": "code",
   "execution_count": 155,
   "id": "71cc39f6",
   "metadata": {},
   "outputs": [
    {
     "data": {
      "text/plain": [
       "'True'"
      ]
     },
     "execution_count": 155,
     "metadata": {},
     "output_type": "execute_result"
    }
   ],
   "source": [
    "s1 = \"clint Eastwood\"\n",
    "s2 = \"old west action\"\n",
    "\n",
    "mods1 = [item.lower() for item in s1 if item.isalpha()]\n",
    "mods2 = [item.lower() for item in s2 if item.isalpha()]\n",
    "\n",
    "ms1 = \"\".join(sorted(mods1))\n",
    "ms2 = \"\".join(sorted(mods2))\n",
    "\n",
    "\"True\" if ms1==ms2 else \"False\""
   ]
  },
  {
   "cell_type": "markdown",
   "id": "76b80565",
   "metadata": {},
   "source": [
    "### 13. Find the missing number of two arrays"
   ]
  },
  {
   "cell_type": "code",
   "execution_count": 159,
   "id": "dba8a2f9",
   "metadata": {},
   "outputs": [
    {
     "name": "stdout",
     "output_type": "stream",
     "text": [
      "5\n"
     ]
    }
   ],
   "source": [
    "from collections import defaultdict\n",
    "d = defaultdict(int)\n",
    "s1 = [1,2,3,4,5,6,7]\n",
    "s2 = [3,7,2,1,4,6]\n",
    "\n",
    "for i in s1[:]:\n",
    "    if i not in s2:\n",
    "        print(i)\n",
    "        break"
   ]
  },
  {
   "cell_type": "markdown",
   "id": "bbbc9c77",
   "metadata": {},
   "source": [
    "### 14. Sentence Reversal"
   ]
  },
  {
   "cell_type": "code",
   "execution_count": 168,
   "id": "8c4695e6",
   "metadata": {},
   "outputs": [
    {
     "data": {
      "text/plain": [
       "'Best the is This'"
      ]
     },
     "execution_count": 168,
     "metadata": {},
     "output_type": "execute_result"
    }
   ],
   "source": [
    "s = \"This is the Best\"\n",
    "#Output expected \"Best the is This\"\n",
    "l = s.split()\n",
    "\n",
    "\" \".join ([l[i] for i in range(len(l)-1,-1,-1)])\n"
   ]
  },
  {
   "cell_type": "markdown",
   "id": "8f2f590a",
   "metadata": {},
   "source": [
    "### 15. Unique Characters in the string\n",
    "when the string is abcde, return true, if the string is aabcde, return false"
   ]
  },
  {
   "cell_type": "code",
   "execution_count": 191,
   "id": "65d5bab6",
   "metadata": {},
   "outputs": [
    {
     "data": {
      "text/plain": [
       "True"
      ]
     },
     "execution_count": 191,
     "metadata": {},
     "output_type": "execute_result"
    }
   ],
   "source": [
    "from collections import defaultdict\n",
    "d = defaultdict(int)\n",
    "s = \"abc\"\n",
    "def find_unique(s):\n",
    "    for i in s[:]:\n",
    "        d[i]+=1\n",
    "    if not any(item for item in d.values() if item >1):\n",
    "        return True\n",
    "    else:\n",
    "        return False\n",
    "find_unique(s)"
   ]
  },
  {
   "cell_type": "markdown",
   "id": "d620c66a",
   "metadata": {},
   "source": [
    "### 16. Multiply index other than the one.. \n",
    "for example, [1,2,3,4] becomes [24,12,8,6]"
   ]
  },
  {
   "cell_type": "code",
   "execution_count": 213,
   "id": "53cf8f20",
   "metadata": {},
   "outputs": [
    {
     "data": {
      "text/plain": [
       "[24, 12, 8, 6]"
      ]
     },
     "execution_count": 213,
     "metadata": {},
     "output_type": "execute_result"
    }
   ],
   "source": [
    "from functools import reduce\n",
    "l = [1,2,3,4]\n",
    "new_list = []\n",
    "def multiply(l):\n",
    "    if len(l)==1:\n",
    "        return l[0]\n",
    "    if len(l) == 0:\n",
    "        return 1\n",
    "    return reduce(lambda x,y: x*y, l)\n",
    "\n",
    "for count,i in enumerate(l):\n",
    "    if count ==0:\n",
    "        new_list.append(multiply(l[count+1:]))\n",
    "    else:\n",
    "        front = l[0:count]\n",
    "        last = l[count+1:]\n",
    "        new_list.append(multiply(front)*multiply(last))\n",
    "new_list\n",
    "    "
   ]
  },
  {
   "cell_type": "markdown",
   "id": "4d4b23cb",
   "metadata": {},
   "source": [
    "### 17. Binary Search for merged List"
   ]
  },
  {
   "cell_type": "code",
   "execution_count": 223,
   "id": "ebec75fa",
   "metadata": {},
   "outputs": [
    {
     "data": {
      "text/plain": [
       "False"
      ]
     },
     "execution_count": 223,
     "metadata": {},
     "output_type": "execute_result"
    }
   ],
   "source": [
    "arr = [1,2,3,4,5,6,7,8,9,10]\n",
    "\n",
    "def bin_search(arr,num):\n",
    "    if len(arr)==0:\n",
    "        return False\n",
    "    mid = len(arr)//2\n",
    "    if arr[mid] == num:\n",
    "        return True\n",
    "    if num < arr[mid]:\n",
    "        return bin_search(arr[0:mid],num)\n",
    "    else:\n",
    "        return bin_search(arr[mid+1:],num)\n",
    "    \n",
    "bin_search(arr,11)"
   ]
  },
  {
   "cell_type": "markdown",
   "id": "fc7366b6",
   "metadata": {},
   "source": [
    "### 18. Remove duplicate string \n",
    "if s is \"Tree Traversal\" output should be \"Tre avsl\""
   ]
  },
  {
   "cell_type": "code",
   "execution_count": 227,
   "id": "956b014f",
   "metadata": {},
   "outputs": [
    {
     "data": {
      "text/plain": [
       "'tre avsl'"
      ]
     },
     "execution_count": 227,
     "metadata": {},
     "output_type": "execute_result"
    }
   ],
   "source": [
    "s = \"tree traversal\"\n",
    "d = {}\n",
    "new_string = ''\n",
    "\n",
    "for i in range(len(s)):\n",
    "    if s[i] not in d:\n",
    "        d[s[i]] = i\n",
    "        new_string+=s[i]\n",
    "new_string"
   ]
  },
  {
   "cell_type": "markdown",
   "id": "65766490",
   "metadata": {},
   "source": [
    "### 19. Bubble Sort Algorithm"
   ]
  },
  {
   "cell_type": "code",
   "execution_count": 229,
   "id": "7dc967c7",
   "metadata": {},
   "outputs": [
    {
     "data": {
      "text/plain": [
       "[0, 1, 4, 6, 8, 9]"
      ]
     },
     "execution_count": 229,
     "metadata": {},
     "output_type": "execute_result"
    }
   ],
   "source": [
    "l = [8,4,1,6,9,0]\n",
    "\n",
    "def bub_sort(arr):\n",
    "    for i in range(len(arr)-1,0,-1):\n",
    "        for j in range(i):\n",
    "            if arr[j] > arr[j+1]:\n",
    "                arr[j],arr[j+1] = arr[j+1],arr[j]\n",
    "bub_sort(l)\n",
    "l"
   ]
  },
  {
   "cell_type": "markdown",
   "id": "58948ab9",
   "metadata": {},
   "source": [
    "### 20. Merge Sort Algorithm"
   ]
  },
  {
   "cell_type": "code",
   "execution_count": 4,
   "id": "84b5b17b",
   "metadata": {},
   "outputs": [
    {
     "name": "stdout",
     "output_type": "stream",
     "text": [
      "[1, 2, 3, 4, 5, 6]\n"
     ]
    }
   ],
   "source": [
    "l1 = [1,2,3]\n",
    "l2 = [4,5,6]\n",
    "newlist =[]\n",
    "\n",
    "i = 0\n",
    "j = 0\n",
    "k = 0\n",
    "\n",
    "while i < len(l1) and j < len(l2):\n",
    "    if l1[i] < l2[j]:\n",
    "        k = l1[i]\n",
    "        i+=1\n",
    "    else:\n",
    "        k = l2[j]\n",
    "        j+=1\n",
    "    newlist.append(k)\n",
    "\n",
    "while i < len(l1):\n",
    "    newlist.append(l1[i])\n",
    "    i+=1\n",
    "\n",
    "while j < len(l2):\n",
    "    newlist.append(l2[j])\n",
    "    j+=1\n",
    "\n",
    "print(newlist)"
   ]
  },
  {
   "cell_type": "markdown",
   "id": "04717610",
   "metadata": {},
   "source": [
    "### 21. Sequential Search Recursive"
   ]
  },
  {
   "cell_type": "code",
   "execution_count": 234,
   "id": "66a0acd1",
   "metadata": {},
   "outputs": [
    {
     "data": {
      "text/plain": [
       "False"
      ]
     },
     "execution_count": 234,
     "metadata": {},
     "output_type": "execute_result"
    }
   ],
   "source": [
    "arr = [1,2,3,4,5,6,7,8,9,10]\n",
    "\n",
    "def seq_search(arr,num):\n",
    "    if len(arr)==0:\n",
    "        return False\n",
    "    if arr[0] == num:\n",
    "        return True\n",
    "    else:\n",
    "        return seq_search(arr[1:],num)\n",
    "seq_search(arr,100)"
   ]
  },
  {
   "cell_type": "markdown",
   "id": "16abf586",
   "metadata": {},
   "source": [
    "### 22. Selection Sort Algorithm"
   ]
  },
  {
   "cell_type": "code",
   "execution_count": 236,
   "id": "543b4aed",
   "metadata": {},
   "outputs": [
    {
     "data": {
      "text/plain": [
       "[0, 1, 4, 6, 8, 9]"
      ]
     },
     "execution_count": 236,
     "metadata": {},
     "output_type": "execute_result"
    }
   ],
   "source": [
    "l = [8,4,1,6,9,0]\n",
    "\n",
    "def sel_sort(arr):\n",
    "    for i in range(len(l)-1):\n",
    "        index = i\n",
    "        for j in range(i+1,len(l)):\n",
    "            if arr[j] < arr[index]:\n",
    "                index = j\n",
    "        if index != i:\n",
    "            arr[i],arr[index] = arr[index],arr[i]\n",
    "sel_sort(l)\n",
    "l"
   ]
  },
  {
   "cell_type": "markdown",
   "id": "0f152722",
   "metadata": {},
   "source": [
    "### 23. Maximum units on the Truck"
   ]
  },
  {
   "cell_type": "code",
   "execution_count": 11,
   "id": "4fdbdecd",
   "metadata": {},
   "outputs": [
    {
     "name": "stdout",
     "output_type": "stream",
     "text": [
      "91\n"
     ]
    }
   ],
   "source": [
    "boxTypes = [[5,10],[2,5],[4,7],[3,9]]\n",
    "\n",
    "truckSize = 10\n",
    "\n",
    "units_filled = 0\n",
    "\n",
    "remaining_capacity = truckSize\n",
    "\n",
    "sorted_list = sorted(boxTypes,key=lambda x: x[1],reverse=True)\n",
    "\n",
    "for i in sorted_list:\n",
    "    capacity = min(remaining_capacity,i[0])\n",
    "    units_filled+=capacity*i[1]\n",
    "    remaining_capacity-=capacity\n",
    "    \n",
    "print(units_filled)\n"
   ]
  },
  {
   "cell_type": "markdown",
   "id": "3a37f805",
   "metadata": {},
   "source": [
    "### 24. Valid Palindrome\n",
    "s = \"A man, a plan, a canal: Panama\" is a palindrome if you remove the punctuations and spaces"
   ]
  },
  {
   "cell_type": "code",
   "execution_count": 18,
   "id": "b2a7f845",
   "metadata": {},
   "outputs": [
    {
     "name": "stdout",
     "output_type": "stream",
     "text": [
      "Palindrome\n"
     ]
    }
   ],
   "source": [
    "s = \"A man, a plan, a canal: Panama\"\n",
    "\n",
    "mod_string = \"\".join([c.lower() for item in s.split() for c in item if c.isalpha()])\n",
    "\n",
    "if mod_string == mod_string[::-1]:\n",
    "    print(\"Palindrome\")\n",
    "else:\n",
    "    print(\"Not a palindrome\")"
   ]
  },
  {
   "cell_type": "markdown",
   "id": "66c3034a",
   "metadata": {},
   "source": [
    "### 25. First Unique Character \n",
    "Input: s = \"leetcode\" Output: 0\n",
    "Input: s = \"loveleetcode\"Output: 2\n",
    "    "
   ]
  },
  {
   "cell_type": "code",
   "execution_count": 25,
   "id": "d2352edc",
   "metadata": {},
   "outputs": [
    {
     "name": "stdout",
     "output_type": "stream",
     "text": [
      "2\n"
     ]
    }
   ],
   "source": [
    "from collections import defaultdict\n",
    "d = defaultdict(int)\n",
    "s = \"loveleetcode\"\n",
    "for i in s:\n",
    "    d[i] +=1\n",
    "for k,v in d.items():\n",
    "    if v ==1:\n",
    "        print(s.index(k))\n",
    "        break"
   ]
  },
  {
   "cell_type": "markdown",
   "id": "da20f8db",
   "metadata": {},
   "source": [
    "### 26. Fizz buzz problem"
   ]
  },
  {
   "cell_type": "code",
   "execution_count": 34,
   "id": "50b8acaf",
   "metadata": {},
   "outputs": [],
   "source": [
    "#[\"Fizz Buzz\" if i%3==0 and i%5 ==0 else \"Fizz\" if i%3==0 else \"Buzz\" if i%5==0 else i for i in range(1,16)]"
   ]
  },
  {
   "cell_type": "markdown",
   "id": "6ee8b1d9",
   "metadata": {},
   "source": [
    "### 27. Majority Element\n",
    "Given an array nums of size n, return the majority element.\n",
    "\n",
    "The majority element is the element that appears more than ⌊n / 2⌋ times. You may assume that the majority element always exists in the array.\n",
    "\n"
   ]
  },
  {
   "cell_type": "code",
   "execution_count": 46,
   "id": "6140ea71",
   "metadata": {},
   "outputs": [
    {
     "name": "stdout",
     "output_type": "stream",
     "text": [
      "3\n"
     ]
    }
   ],
   "source": [
    "from collections import defaultdict\n",
    "d = defaultdict(int)\n",
    "nums = [3,2,3]\n",
    "\n",
    "for i in nums[:]:\n",
    "    d[i]+=1\n",
    "    \n",
    "s_items = sorted(d.items(),key = lambda x:x[1],reverse=True)\n",
    "\n",
    "if s_items[0][1] > len(nums)//2:\n",
    "    print(s_items[0][0])\n",
    "\n"
   ]
  },
  {
   "cell_type": "markdown",
   "id": "7563dab3",
   "metadata": {},
   "source": [
    "### 28. Permutation of elements\n",
    "abc becomes abc,acb,cab,cba,bca,bac"
   ]
  },
  {
   "cell_type": "code",
   "execution_count": 52,
   "id": "59132dd6",
   "metadata": {},
   "outputs": [
    {
     "data": {
      "text/plain": [
       "[('a', 'b', 'c'),\n",
       " ('a', 'c', 'b'),\n",
       " ('b', 'a', 'c'),\n",
       " ('b', 'c', 'a'),\n",
       " ('c', 'a', 'b'),\n",
       " ('c', 'b', 'a')]"
      ]
     },
     "execution_count": 52,
     "metadata": {},
     "output_type": "execute_result"
    }
   ],
   "source": [
    "s = 'abc'\n",
    "from itertools import permutations\n",
    "list(permutations(s))"
   ]
  },
  {
   "cell_type": "markdown",
   "id": "10498d71",
   "metadata": {},
   "source": [
    "### 29. Pascal Triangle"
   ]
  },
  {
   "cell_type": "code",
   "execution_count": 78,
   "id": "69464df1",
   "metadata": {},
   "outputs": [
    {
     "name": "stdout",
     "output_type": "stream",
     "text": [
      "[[1], [1, 1], [1, 2, 1], [1, 3, 3, 1], [1, 4, 6, 4, 1], [1, 5, 10, 10, 5, 1]]\n"
     ]
    }
   ],
   "source": [
    "l = [[1],[1,1]]\n",
    "n=4\n",
    "row = [1,1]\n",
    "\n",
    "for i in range(n):\n",
    "    temp = [1]+[sum(item) for item in zip(row[1:],row)]+[1]\n",
    "    l.append(temp)\n",
    "    row = temp\n",
    "print(l)"
   ]
  },
  {
   "cell_type": "markdown",
   "id": "8ef17af7",
   "metadata": {},
   "source": [
    "### 30. Contains Duplicate"
   ]
  },
  {
   "cell_type": "code",
   "execution_count": 86,
   "id": "6ba2fa39",
   "metadata": {},
   "outputs": [
    {
     "data": {
      "text/plain": [
       "True"
      ]
     },
     "execution_count": 86,
     "metadata": {},
     "output_type": "execute_result"
    }
   ],
   "source": [
    "from collections import defaultdict\n",
    "d = defaultdict(int)\n",
    "nums = [1,1,1,3,3,4,3,2,4,2]\n",
    "\n",
    "for i in nums[:]:\n",
    "    d[i]+=1\n",
    "\n",
    "any(item for item in d.values() if item > 1)\n"
   ]
  },
  {
   "cell_type": "markdown",
   "id": "3759a826",
   "metadata": {},
   "source": [
    "### 31. Intersection of arrays"
   ]
  },
  {
   "cell_type": "code",
   "execution_count": 89,
   "id": "afc264c2",
   "metadata": {},
   "outputs": [
    {
     "data": {
      "text/plain": [
       "{2}"
      ]
     },
     "execution_count": 89,
     "metadata": {},
     "output_type": "execute_result"
    }
   ],
   "source": [
    "nums1 = [1,2,2,1]\n",
    "nums2 = [2,2]\n",
    "setA = set(nums1)\n",
    "setB = set(nums2)\n",
    "setA.intersection(setB)\n"
   ]
  },
  {
   "cell_type": "markdown",
   "id": "9da802c0",
   "metadata": {},
   "source": [
    "### 32. Find the position of first and last item of sorted array"
   ]
  },
  {
   "cell_type": "code",
   "execution_count": 92,
   "id": "0a894dcc",
   "metadata": {},
   "outputs": [
    {
     "name": "stdout",
     "output_type": "stream",
     "text": [
      "3 4\n"
     ]
    }
   ],
   "source": [
    "nums = [5,7,7,8,8,10]\n",
    "target = 8\n",
    "\n",
    "first = nums.index(8)\n",
    "last = len(nums)-1-nums[::-1].index(8)\n",
    "print(first,last)"
   ]
  },
  {
   "cell_type": "markdown",
   "id": "c4b5bb7b",
   "metadata": {},
   "source": [
    "### 33. Container with most water"
   ]
  },
  {
   "cell_type": "code",
   "execution_count": 100,
   "id": "99997ec6",
   "metadata": {},
   "outputs": [
    {
     "name": "stdout",
     "output_type": "stream",
     "text": [
      "49\n"
     ]
    }
   ],
   "source": [
    "height = [1,8,6,2,5,4,8,3,7]\n",
    "max_area = 0\n",
    "\n",
    "left = 0\n",
    "right = len(height)-1\n",
    "\n",
    "for i in range(len(height)):\n",
    "    if height[left] < height[right]:\n",
    "        area = height[left]*(right-left)\n",
    "        left+=1\n",
    "    else:\n",
    "        area = height[right]*(right-left)\n",
    "        right-=1\n",
    "    max_area = max(max_area,area)\n",
    "    \n",
    "print(max_area)\n"
   ]
  },
  {
   "cell_type": "markdown",
   "id": "82d4a3ef",
   "metadata": {},
   "source": [
    "### 34. Find the pivotal index"
   ]
  },
  {
   "cell_type": "code",
   "execution_count": 109,
   "id": "7fd9865d",
   "metadata": {},
   "outputs": [
    {
     "data": {
      "text/plain": [
       "-1"
      ]
     },
     "execution_count": 109,
     "metadata": {},
     "output_type": "execute_result"
    }
   ],
   "source": [
    "nums = [1,8,3,6,5,6]\n",
    "# Output expected is 3\n",
    "\n",
    "def find_pivotal(arr):\n",
    "    flag = False\n",
    "    \n",
    "    if len(arr)== 1:\n",
    "        return arr[0]\n",
    "    for i in range(1,len(arr)):\n",
    "        if sum(arr[:i]) == sum(arr[i+1:]):\n",
    "            return i\n",
    "    if not flag:\n",
    "        return -1\n",
    "find_pivotal(nums)"
   ]
  },
  {
   "cell_type": "markdown",
   "id": "51af603e",
   "metadata": {},
   "source": [
    "### 35. Length of last word\n",
    "s = \"Hello World\" and the last word is World and length is 5"
   ]
  },
  {
   "cell_type": "code",
   "execution_count": 114,
   "id": "0c3cdb5c",
   "metadata": {},
   "outputs": [
    {
     "name": "stdout",
     "output_type": "stream",
     "text": [
      "The last word is joyboy and the length is 6\n"
     ]
    }
   ],
   "source": [
    "s = \"luffy is still joyboy\"\n",
    "words = s.split()\n",
    "print(\"The last word is {} and the length is {}\".format(words[-1],len(words[-1])))"
   ]
  },
  {
   "cell_type": "markdown",
   "id": "00a23af9",
   "metadata": {},
   "source": [
    "### 36. Swap Case"
   ]
  },
  {
   "cell_type": "code",
   "execution_count": 118,
   "id": "eccaead2",
   "metadata": {},
   "outputs": [
    {
     "data": {
      "text/plain": [
       "'hACKERrANK.COM PRESENTS \"pYTHONIST 2\".'"
      ]
     },
     "execution_count": 118,
     "metadata": {},
     "output_type": "execute_result"
    }
   ],
   "source": [
    "s='HackerRank.com presents \"Pythonist 2\".'\n",
    "new_string = ''\n",
    "for i in s:\n",
    "    if i.islower():\n",
    "        new_string+=i.upper()\n",
    "    else:\n",
    "        new_string+=i.lower()\n",
    "new_string\n"
   ]
  },
  {
   "cell_type": "markdown",
   "id": "e5f1db93",
   "metadata": {},
   "source": [
    "### 37. Find a substring index\n",
    "if the string is ABCDCDC and target is CDC, output expected is 2"
   ]
  },
  {
   "cell_type": "code",
   "execution_count": 123,
   "id": "2934fa66",
   "metadata": {},
   "outputs": [
    {
     "name": "stdout",
     "output_type": "stream",
     "text": [
      "2\n"
     ]
    }
   ],
   "source": [
    "s ='ABCDCDC'\n",
    "target = 'CDC'\n",
    "\n",
    "for i in range(len(s)):\n",
    "    if s[i:i+len(target)] == target:\n",
    "        print(i)\n",
    "        break"
   ]
  },
  {
   "cell_type": "markdown",
   "id": "b3641f17",
   "metadata": {},
   "source": [
    "### 38. Capitalize string"
   ]
  },
  {
   "cell_type": "code",
   "execution_count": 130,
   "id": "5d8d0b2b",
   "metadata": {},
   "outputs": [
    {
     "name": "stdout",
     "output_type": "stream",
     "text": [
      "Chris Alan\n"
     ]
    }
   ],
   "source": [
    "s = 'chris alan'\n",
    "# output expected is Chris Alan\n",
    "\n",
    "print(\" \".join([i.capitalize() for i in s.split()]))"
   ]
  },
  {
   "cell_type": "markdown",
   "id": "79eeee51",
   "metadata": {},
   "source": [
    "### 39. Longest Sub Array"
   ]
  },
  {
   "cell_type": "code",
   "execution_count": 135,
   "id": "41809892",
   "metadata": {},
   "outputs": [
    {
     "name": "stdout",
     "output_type": "stream",
     "text": [
      "['pw', 'w', 'wke']\n"
     ]
    }
   ],
   "source": [
    "#Longest Sub Array\n",
    "s = \"pwwkew\"\n",
    "arr_list = []\n",
    "\n",
    "for i in range(len(s)):\n",
    "    temp = s[i]\n",
    "    for j in range(i+1,len(s)):\n",
    "        if s[j] not in temp:\n",
    "            temp+=s[j]\n",
    "        else:\n",
    "            arr_list.append(temp)\n",
    "            break\n",
    "print(arr_list)"
   ]
  },
  {
   "cell_type": "markdown",
   "id": "0cd63958",
   "metadata": {},
   "source": [
    "### 40. Longest Palindrome"
   ]
  },
  {
   "cell_type": "code",
   "execution_count": 140,
   "id": "518ec23b",
   "metadata": {},
   "outputs": [
    {
     "name": "stdout",
     "output_type": "stream",
     "text": [
      "['malayalam', 'ala', 'alayala', 'layal', 'aya', 'ala']\n"
     ]
    }
   ],
   "source": [
    "# Longest Palindrome\n",
    "s = \"malayalams\"\n",
    "pal_list = []\n",
    "\n",
    "for i in range(0,len(s)):\n",
    "    temp = s[i]\n",
    "    for j in range(i+1,len(s)):\n",
    "        temp+=s[j]\n",
    "        if temp == temp[::-1]:\n",
    "            pal_list.append(temp)\n",
    "        else:\n",
    "            continue\n",
    "print(pal_list)\n",
    "        "
   ]
  },
  {
   "cell_type": "markdown",
   "id": "0078bf4d",
   "metadata": {},
   "source": [
    "### 41. List Count recursive"
   ]
  },
  {
   "cell_type": "code",
   "execution_count": 150,
   "id": "df58e35c",
   "metadata": {},
   "outputs": [
    {
     "data": {
      "text/plain": [
       "10"
      ]
     },
     "execution_count": 150,
     "metadata": {},
     "output_type": "execute_result"
    }
   ],
   "source": [
    "l = [1,[2,3,5],[4,5,6],5,6,7]\n",
    "def count_items(arr):\n",
    "    count = 0\n",
    "    for i in arr:\n",
    "        if isinstance(i,list):\n",
    "            count+=count_items(i)\n",
    "        else:\n",
    "            count+=1\n",
    "    return count\n",
    "count_items(l)\n"
   ]
  },
  {
   "cell_type": "code",
   "execution_count": null,
   "id": "0986f1ca",
   "metadata": {},
   "outputs": [],
   "source": []
  },
  {
   "cell_type": "code",
   "execution_count": null,
   "id": "c070824a",
   "metadata": {},
   "outputs": [],
   "source": []
  }
 ],
 "metadata": {
  "kernelspec": {
   "display_name": "Python 3",
   "language": "python",
   "name": "python3"
  },
  "language_info": {
   "codemirror_mode": {
    "name": "ipython",
    "version": 3
   },
   "file_extension": ".py",
   "mimetype": "text/x-python",
   "name": "python",
   "nbconvert_exporter": "python",
   "pygments_lexer": "ipython3",
   "version": "3.9.4"
  }
 },
 "nbformat": 4,
 "nbformat_minor": 5
}
