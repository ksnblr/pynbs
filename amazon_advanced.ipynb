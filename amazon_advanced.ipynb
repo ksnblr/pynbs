{
 "cells": [
  {
   "cell_type": "markdown",
   "id": "ddad84eb",
   "metadata": {},
   "source": [
    "### Linked List\n",
    "Palindrome,\n",
    "Reverse,\n",
    "get nth Node, \n",
    "Print list, \n",
    "delete node, \n",
    "delete node by value"
   ]
  },
  {
   "cell_type": "code",
   "execution_count": 39,
   "id": "17069ae2",
   "metadata": {},
   "outputs": [],
   "source": [
    "class Node:\n",
    "    def __init__(self,value):\n",
    "        self.value = value\n",
    "        self.next = None\n",
    "\n",
    "class LL:\n",
    "    def __init__(self,value):\n",
    "        new_node = Node(value)\n",
    "        self.head = new_node\n",
    "        self.tail = new_node\n",
    "        self.length = 1\n",
    "    \n",
    "    def check_palindrome(self):\n",
    "        arr=[]\n",
    "        temp = self.head\n",
    "        while temp is not None:\n",
    "            arr.append(temp.value)\n",
    "            temp = temp.next\n",
    "        print(arr)\n",
    "        if arr == arr[::-1]:\n",
    "            return True\n",
    "        else:\n",
    "            return False\n",
    "    \n",
    "    def delete_node(self,node):\n",
    "        node.val = node.next.val\n",
    "        node.next = node.next.next\n",
    "    \n",
    "    def delete_node_by_value(self,value):\n",
    "        sentinel = Node(-1)\n",
    "        sentinel.next = self.head\n",
    "        prev,curr = sentinel,self.head\n",
    "        while curr is not None:\n",
    "            if curr.value == value:\n",
    "                prev.next = curr.next\n",
    "            else:\n",
    "                prev = curr\n",
    "            curr = curr.next       \n",
    "    \n",
    "    def insert_node(self,value):\n",
    "        new_node = Node(value)\n",
    "        if self.length == 0:\n",
    "            self.head = new_node\n",
    "            self.tail = new_node\n",
    "        else:\n",
    "            temp = self.tail\n",
    "            self.tail.next = new_node\n",
    "            self.tail = new_node\n",
    "    \n",
    "    def print_nodes(self):\n",
    "        temp = self.head\n",
    "        while temp is not None:\n",
    "            print (temp.value)\n",
    "            temp = temp.next\n",
    "    \n",
    "    def reverse_nodes(self):\n",
    "        def reverse(root):\n",
    "            if root is None or root.next is None:\n",
    "                return root\n",
    "            p = reverse(root.next)\n",
    "            root.next.next = root\n",
    "            root.next = None\n",
    "            return p\n",
    "        self.head = reverse(self.head)\n",
    "        \n",
    "    def get_nth_node(self,n):\n",
    "        left = self.head\n",
    "        right = self.head\n",
    "        \n",
    "        for _ in range(n):\n",
    "            right = right.next\n",
    "        \n",
    "        while right.next is not None:\n",
    "            left = left.next\n",
    "            right = right.next\n",
    "        print (left.value)\n",
    "            "
   ]
  },
  {
   "cell_type": "code",
   "execution_count": 40,
   "id": "1105999e",
   "metadata": {},
   "outputs": [
    {
     "name": "stdout",
     "output_type": "stream",
     "text": [
      "100\n",
      "200\n",
      "300\n",
      "400\n",
      "100\n",
      "200\n",
      "400\n"
     ]
    }
   ],
   "source": [
    "ll = LL(100)\n",
    "ll.insert_node(200)\n",
    "ll.insert_node(300)\n",
    "ll.insert_node(400)\n",
    "ll.print_nodes()\n",
    "ll.delete_node_by_value(300)\n",
    "ll.print_nodes()"
   ]
  },
  {
   "cell_type": "markdown",
   "id": "185a717f",
   "metadata": {},
   "source": [
    "### Linked List Cycle check  - Refer Leet Code\n",
    "create arrays and compare\n"
   ]
  },
  {
   "cell_type": "markdown",
   "id": "92d47a75",
   "metadata": {},
   "source": [
    "### Linked list merge Sort (Refer leet code)\n",
    "Create dummy node and use prev to attach the nodes"
   ]
  },
  {
   "cell_type": "markdown",
   "id": "ca5f75a3",
   "metadata": {},
   "source": [
    "### Implement a Stack"
   ]
  },
  {
   "cell_type": "code",
   "execution_count": 53,
   "id": "b6551b60",
   "metadata": {},
   "outputs": [],
   "source": [
    "class Stack:\n",
    "    \n",
    "    def __init__(self):\n",
    "        self.stack_list = []\n",
    "    def push(self,value):\n",
    "        self.stack_list.append(value)\n",
    "    def pop(self):\n",
    "        return self.stack_list.pop()\n",
    "    def peek(self):\n",
    "        return self.stack_list[-1]\n",
    "    def isempty(self):\n",
    "        return (len(self.stack_list)==0)"
   ]
  },
  {
   "cell_type": "code",
   "execution_count": 57,
   "id": "b726431a",
   "metadata": {},
   "outputs": [
    {
     "data": {
      "text/plain": [
       "True"
      ]
     },
     "execution_count": 57,
     "metadata": {},
     "output_type": "execute_result"
    }
   ],
   "source": [
    "s = Stack()\n",
    "s.push(1)\n",
    "s.push(2)\n",
    "s.peek()\n",
    "s.pop()\n",
    "s.peek()\n",
    "s.isempty()\n",
    "s.pop()\n",
    "s.isempty()"
   ]
  },
  {
   "cell_type": "markdown",
   "id": "23e80d97",
   "metadata": {},
   "source": [
    "### Implement a Queue"
   ]
  },
  {
   "cell_type": "code",
   "execution_count": 58,
   "id": "525cd1bb",
   "metadata": {},
   "outputs": [],
   "source": [
    "class queue:\n",
    "    def __init__ (self):\n",
    "        self.qlist = []\n",
    "    def enq(self,item):\n",
    "        self.qlist.append(item)\n",
    "    def deq(self):\n",
    "        return self.qlist.pop(0)\n",
    "    def isempty(self):\n",
    "        return (len(self.qlist==0))\n",
    "    def size(self):\n",
    "        return len(self.qlist)\n",
    "        "
   ]
  },
  {
   "cell_type": "code",
   "execution_count": 59,
   "id": "bc8fdce0",
   "metadata": {
    "scrolled": true
   },
   "outputs": [
    {
     "name": "stdout",
     "output_type": "stream",
     "text": [
      "1\n"
     ]
    },
    {
     "data": {
      "text/plain": [
       "2"
      ]
     },
     "execution_count": 59,
     "metadata": {},
     "output_type": "execute_result"
    }
   ],
   "source": [
    "q = queue()\n",
    "q.enq(1)\n",
    "q.enq(2)\n",
    "q.enq(3)\n",
    "q.size()\n",
    "print(q.deq())\n",
    "q.size()"
   ]
  },
  {
   "cell_type": "markdown",
   "id": "dc2e58db",
   "metadata": {},
   "source": [
    "### Implement Dequeue"
   ]
  },
  {
   "cell_type": "code",
   "execution_count": 64,
   "id": "c1af0f56",
   "metadata": {},
   "outputs": [],
   "source": [
    "class dequeue:\n",
    "    def __init__ (self):\n",
    "        self.qlist = []\n",
    "    def front_load(self,item):\n",
    "        self.qlist.insert(0,item)\n",
    "    def rear_load(self,item):\n",
    "        self.qlist.append(item)\n",
    "    def pop_front(self):\n",
    "        return self.qlist.pop(0)\n",
    "    def pop_rear(self):\n",
    "        return self.qlist.pop()\n",
    "    def isempty(self):\n",
    "        return (len(self.qlist==0))\n",
    "    def size(self):\n",
    "        return len(self.qlist)\n",
    "    def print_q(self):\n",
    "        print(self.qlist)"
   ]
  },
  {
   "cell_type": "code",
   "execution_count": 69,
   "id": "5ca794c6",
   "metadata": {},
   "outputs": [
    {
     "name": "stdout",
     "output_type": "stream",
     "text": [
      "[2, 1]\n"
     ]
    }
   ],
   "source": [
    "dq = dequeue()\n",
    "dq.front_load(1)\n",
    "dq.front_load(2)\n",
    "dq.rear_load(100)\n",
    "dq.front_load(3)\n",
    "dq.pop_rear()\n",
    "dq.pop_front()\n",
    "dq.print_q()"
   ]
  },
  {
   "cell_type": "markdown",
   "id": "f38ac796",
   "metadata": {},
   "source": [
    "### Implementation of Binary Tree"
   ]
  },
  {
   "cell_type": "code",
   "execution_count": 93,
   "id": "bd319998",
   "metadata": {},
   "outputs": [],
   "source": [
    "class Node:\n",
    "    def __init__(self,value):\n",
    "        self.value = value\n",
    "        self.left = None\n",
    "        self.right = None\n",
    "        \n",
    "class BT:\n",
    "    def __init__(self):\n",
    "        self.root = None\n",
    "        \n",
    "    def add_nodes(self,value):\n",
    "        new_node = Node(value)\n",
    "        if self.root is None:\n",
    "            self.root = new_node\n",
    "        else:\n",
    "            temp = self.root\n",
    "            while temp is not None:\n",
    "                if value < temp.value:\n",
    "                    if temp.left is None:\n",
    "                        temp.left = new_node\n",
    "                        return True\n",
    "                    else:\n",
    "                        temp = temp.left\n",
    "                else:\n",
    "                    if temp.right is None:\n",
    "                        temp.right = new_node\n",
    "                        return True\n",
    "                    else:\n",
    "                        temp = temp.right\n",
    "                        \n",
    "    def BFS_search(self):\n",
    "        q = []\n",
    "        q.append(self.root)\n",
    "        while len(q)!= 0:\n",
    "            item = q.pop(0)\n",
    "            print(item.value)\n",
    "            if item.left is not None:\n",
    "                q.append(item.left)\n",
    "            if item.right is not None:\n",
    "                q.append(item.right)\n",
    "    \n",
    "    def dfs_search(self):\n",
    "        result = []\n",
    "        def dfs(root):\n",
    "            if root.left:\n",
    "                dfs(root.left)\n",
    "            result.append(root.value)\n",
    "            if root.right:\n",
    "                dfs(root.right)\n",
    "        dfs(self.root)\n",
    "        return result\n",
    "        \n",
    "            "
   ]
  },
  {
   "cell_type": "code",
   "execution_count": 94,
   "id": "ea5a1c79",
   "metadata": {},
   "outputs": [
    {
     "name": "stdout",
     "output_type": "stream",
     "text": [
      "100\n",
      "50\n",
      "150\n",
      "40\n",
      "60\n",
      "125\n",
      "200\n"
     ]
    },
    {
     "data": {
      "text/plain": [
       "[40, 50, 60, 100, 125, 150, 200]"
      ]
     },
     "execution_count": 94,
     "metadata": {},
     "output_type": "execute_result"
    }
   ],
   "source": [
    "bt = BT()\n",
    "bt.add_nodes(100)\n",
    "bt.add_nodes(50)\n",
    "bt.add_nodes(150)\n",
    "bt.add_nodes(40)\n",
    "bt.add_nodes(60)\n",
    "bt.add_nodes(200)\n",
    "bt.add_nodes(125)\n",
    "bt.BFS_search()\n",
    "bt.dfs_search()"
   ]
  },
  {
   "cell_type": "markdown",
   "id": "cd7112fa",
   "metadata": {},
   "source": [
    "### Binary tree compare trees (Refer Leet code)"
   ]
  },
  {
   "cell_type": "code",
   "execution_count": 95,
   "id": "f465559b",
   "metadata": {},
   "outputs": [],
   "source": [
    "def compare_trees(tree1,tree2):\n",
    "    if tree1 is None and tree2 is None:\n",
    "        return True\n",
    "    if tree1 is None or tree2 is None:\n",
    "        return False\n",
    "    return tree1.value == tree2.value and compare_trees(tree1.left,tree2.left) and compare_trees(tree1.right,tree2.right)"
   ]
  },
  {
   "cell_type": "markdown",
   "id": "a51664aa",
   "metadata": {},
   "source": [
    "### Binary Tree Symmetry (Refer Leet Code)"
   ]
  },
  {
   "cell_type": "code",
   "execution_count": 97,
   "id": "fb6e14ee",
   "metadata": {},
   "outputs": [],
   "source": [
    "def compare_trees(tree1,tree2):\n",
    "    if tree1 is None and tree2 is None:\n",
    "        return True\n",
    "    if tree1 is None or tree2 is None:\n",
    "        return False\n",
    "    return tree1.value == tree2.value and compare_trees(tree1.left,tree2.right) and compare_trees(tree1.right,tree2.left)"
   ]
  },
  {
   "cell_type": "markdown",
   "id": "b534c3f2",
   "metadata": {},
   "source": [
    "### Binary Tree Trim"
   ]
  },
  {
   "cell_type": "code",
   "execution_count": 98,
   "id": "f08a6a78",
   "metadata": {},
   "outputs": [],
   "source": [
    "def trim_tree(root,low,high):\n",
    "    if root is None:\n",
    "        return None\n",
    "    root.left = trim_tree(root.left,low,high)\n",
    "    root.right = trim_tree(root.right,low,high)\n",
    "    if root.value < low:\n",
    "        return root.right\n",
    "    if root.value > high:\n",
    "        return root.left\n",
    "    return root\n",
    "    "
   ]
  },
  {
   "cell_type": "code",
   "execution_count": null,
   "id": "eb72c534",
   "metadata": {},
   "outputs": [],
   "source": []
  }
 ],
 "metadata": {
  "kernelspec": {
   "display_name": "Python 3",
   "language": "python",
   "name": "python3"
  },
  "language_info": {
   "codemirror_mode": {
    "name": "ipython",
    "version": 3
   },
   "file_extension": ".py",
   "mimetype": "text/x-python",
   "name": "python",
   "nbconvert_exporter": "python",
   "pygments_lexer": "ipython3",
   "version": "3.9.4"
  }
 },
 "nbformat": 4,
 "nbformat_minor": 5
}
